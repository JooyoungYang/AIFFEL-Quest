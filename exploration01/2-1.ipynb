{
 "cells": [
  {
   "cell_type": "markdown",
   "id": "a1d63ae9",
   "metadata": {},
   "source": [
    "# 1. 데이터 가져오기\n",
    "- `sklearn.datasets`의 `load_diabetes`에서 데이터를 가져와주세요.\n",
    "- `diabetes`의 `data`를 `df_X`에, `target`을 `df_y`에 저장해주세요."
   ]
  },
  {
   "cell_type": "code",
   "execution_count": 1,
   "id": "1609e78a",
   "metadata": {},
   "outputs": [],
   "source": [
    "from sklearn.datasets import load_diabetes\n",
    "\n",
    "diabetes = load_diabetes() # 당뇨병 데이터 불러오기\n",
    "df_X = diabetes['data']\n",
    "df_y = diabetes['target']"
   ]
  },
  {
   "cell_type": "markdown",
   "id": "fd6ddcd9",
   "metadata": {},
   "source": [
    "# 2. 모델에 입력할 데이터 X 준비하기\n",
    "- `df_X`에 있는 값들을 numpy array로 변환해서 저장해주세요."
   ]
  },
  {
   "cell_type": "code",
   "execution_count": 2,
   "id": "08b46604",
   "metadata": {},
   "outputs": [
    {
     "name": "stdout",
     "output_type": "stream",
     "text": [
      "<class 'numpy.ndarray'>\n"
     ]
    }
   ],
   "source": [
    "print(type(df_X)) # 이미 numpy array로 변환되어있음"
   ]
  },
  {
   "cell_type": "markdown",
   "id": "97e65646",
   "metadata": {},
   "source": [
    "# 3. 모델에 예측할 데이터 y 준비하기\n",
    "- `df_y`에 있는 값들을 numpy array로 변환해서 저장해주세요."
   ]
  },
  {
   "cell_type": "code",
   "execution_count": 3,
   "id": "e8f0da89",
   "metadata": {},
   "outputs": [
    {
     "name": "stdout",
     "output_type": "stream",
     "text": [
      "<class 'numpy.ndarray'>\n"
     ]
    }
   ],
   "source": [
    "print(type(df_y)) # 이미 numpy array로 변환되어있음"
   ]
  },
  {
   "cell_type": "markdown",
   "id": "397dc103",
   "metadata": {},
   "source": [
    "# 4. train 데이터와 test 데이터로 분리하기\n",
    "- `X`와 `y` 데이터를 각각 train 데이터와 test 데이터로 분리해주세요."
   ]
  },
  {
   "cell_type": "code",
   "execution_count": 4,
   "id": "561db75b",
   "metadata": {},
   "outputs": [],
   "source": [
    "from sklearn.model_selection import train_test_split\n",
    "\n",
    "# 데이터셋을 train용과 test용으로 분리\n",
    "X_train, X_test, y_train, y_test = train_test_split(df_X, df_y, test_size=0.2, random_state=42)"
   ]
  },
  {
   "cell_type": "code",
   "execution_count": 5,
   "id": "5c6e40bb",
   "metadata": {},
   "outputs": [
    {
     "name": "stdout",
     "output_type": "stream",
     "text": [
      "(353, 10) (353,)\n",
      "(89, 10) (89,)\n"
     ]
    }
   ],
   "source": [
    "print(X_train.shape, y_train.shape) # train 데이터셋 형태 확인\n",
    "print(X_test.shape, y_test.shape)   # test 데이터셋 형태 확인"
   ]
  },
  {
   "cell_type": "markdown",
   "id": "0b6783ea",
   "metadata": {},
   "source": [
    "# 5. 모델 준비하기\n",
    "- 입력 데이터 개수에 맞는 가중치 `W`와 `b`를 준비해주세요.\n",
    "- 모델 함수를 구현해주세요."
   ]
  },
  {
   "cell_type": "code",
   "execution_count": 6,
   "id": "dba2d2dc",
   "metadata": {},
   "outputs": [],
   "source": [
    "import numpy as np\n",
    "\n",
    "W = np.random.random(10) # 특성 10개에 대한 가중치\n",
    "b = np.random.random()   # 편향"
   ]
  },
  {
   "cell_type": "code",
   "execution_count": 7,
   "id": "2cbe2508",
   "metadata": {},
   "outputs": [
    {
     "name": "stdout",
     "output_type": "stream",
     "text": [
      "[0.06791858 0.07437042 0.66431486 0.19244219 0.2487025  0.43161335\n",
      " 0.05799499 0.80446989 0.15074561 0.07495543]\n"
     ]
    }
   ],
   "source": [
    "print(W) # 초기화된 가중치 확인"
   ]
  },
  {
   "cell_type": "code",
   "execution_count": 8,
   "id": "b37e85ce",
   "metadata": {},
   "outputs": [
    {
     "name": "stdout",
     "output_type": "stream",
     "text": [
      "0.7233935211586127\n"
     ]
    }
   ],
   "source": [
    "print(b) # 초기화된 편향 확인"
   ]
  },
  {
   "cell_type": "code",
   "execution_count": 9,
   "id": "1aaa10de",
   "metadata": {},
   "outputs": [],
   "source": [
    "def model(X, W, b):  # X: (batch, features), W: (features,), b: (1, )\n",
    "    y = X.dot(W) + b\n",
    "    return y         # y: (batch, )"
   ]
  },
  {
   "cell_type": "code",
   "execution_count": 10,
   "id": "5177b764",
   "metadata": {},
   "outputs": [],
   "source": [
    "# 결과값 크기 확인용\n",
    "#X = np.random.random((16, 10))\n",
    "#model(X, W, b).shape"
   ]
  },
  {
   "cell_type": "markdown",
   "id": "6068f83f",
   "metadata": {},
   "source": [
    "# 6. 손실함수 `loss` 정의하기\n",
    "- 손실함수를 MSE 함수로 정의해주세요."
   ]
  },
  {
   "cell_type": "code",
   "execution_count": 11,
   "id": "1aa6d2a3",
   "metadata": {},
   "outputs": [],
   "source": [
    "# MSE 계산\n",
    "def MSE(y_pred, y):\n",
    "    return ((y_pred - y) ** 2).mean()"
   ]
  },
  {
   "cell_type": "code",
   "execution_count": 12,
   "id": "70aa3c6b",
   "metadata": {},
   "outputs": [],
   "source": [
    "# 파라미터와 데이터셋의 Loss값 계산\n",
    "def loss(X, W, b, y):\n",
    "    y_pred = model(X, W, b)\n",
    "    return MSE(y_pred, y)"
   ]
  },
  {
   "cell_type": "markdown",
   "id": "2492c1b2",
   "metadata": {},
   "source": [
    "# 7. 기울기를 구하는 `gradient`함수 구현하기\n",
    "- 기울기를 계산하는 `gradient` 함수를 구현해주세요."
   ]
  },
  {
   "cell_type": "code",
   "execution_count": 13,
   "id": "0847458a",
   "metadata": {},
   "outputs": [],
   "source": [
    "def gradient(X, W, b, y): # X: (batch, features), W: (batch,), b: (1, ), y: (batch, )\n",
    "    # 그래디언트 연산을 위해 필요한 값\n",
    "    y_pred = model(X, W, b)\n",
    "    N = len(y)\n",
    "    \n",
    "    # Loss가 MSE인 선형 회귀 모델의 그래디언트 연산\n",
    "    dW = 1/N * 2 * (X.T.dot(y_pred - y))\n",
    "    db = 2 * (y_pred - y).mean()\n",
    "    return dW, db         # dW: (features, ), db: (1, )"
   ]
  },
  {
   "cell_type": "code",
   "execution_count": 14,
   "id": "615a328b",
   "metadata": {},
   "outputs": [],
   "source": [
    "# 결과값 크기 확인용\n",
    "#X = np.random.random((16, 10))\n",
    "#y = np.random.random(16)\n",
    "\n",
    "#dW, db = gradient(X, W, b, y)\n",
    "#print(dW.shape, db.shape)"
   ]
  },
  {
   "cell_type": "markdown",
   "id": "94c651b7",
   "metadata": {},
   "source": [
    "# 8. 하이퍼 파라미터인 학습률 설정하기\n",
    "- 학습률, learning rate를 설정해주세요\n",
    "- 만약 학습이 잘 되지 않는다면 learning rate값을 한번 여러 가지로 설정하며 실험해 보세요."
   ]
  },
  {
   "cell_type": "code",
   "execution_count": 15,
   "id": "6821469b",
   "metadata": {},
   "outputs": [],
   "source": [
    "# 하이퍼 파라미터\n",
    "LEARNING_RATE = 0.7 # 학습률"
   ]
  },
  {
   "cell_type": "markdown",
   "id": "63f149f3",
   "metadata": {},
   "source": [
    "# 9. 모델 학습하기\n",
    "- 정의된 손실함수와 기울기 함수로 모델을 학습해주세요.\n",
    "- loss값이 충분히 떨어질 때까지 학습을 진행해주세요.\n",
    "- 입력하는 데이터인 `x`에 들어가는 특성 컬럼들을 몇 개 빼도 괜찮습니다. 다양한 데이터로 실험해 보세요."
   ]
  },
  {
   "cell_type": "code",
   "execution_count": 16,
   "id": "bc84b49a",
   "metadata": {
    "scrolled": true
   },
   "outputs": [
    {
     "name": "stdout",
     "output_type": "stream",
     "text": [
      "Iteration 0050: loss = 4368.9319\n",
      "Iteration 0100: loss = 3713.0037\n",
      "Iteration 0150: loss = 3414.2981\n",
      "Iteration 0200: loss = 3249.9006\n",
      "Iteration 0250: loss = 3146.7879\n",
      "Iteration 0300: loss = 3077.3159\n",
      "Iteration 0350: loss = 3028.8061\n",
      "Iteration 0400: loss = 2994.2959\n",
      "Iteration 0450: loss = 2969.4634\n",
      "Iteration 0500: loss = 2951.4409\n",
      "Iteration 0550: loss = 2938.2615\n",
      "Iteration 0600: loss = 2928.5529\n",
      "Iteration 0650: loss = 2921.3478\n",
      "Iteration 0700: loss = 2915.9600\n",
      "Iteration 0750: loss = 2911.8994\n",
      "Iteration 0800: loss = 2908.8140\n",
      "Iteration 0850: loss = 2906.4497\n",
      "Iteration 0900: loss = 2904.6220\n",
      "Iteration 0950: loss = 2903.1961\n",
      "Iteration 1000: loss = 2902.0730\n",
      "Iteration 1050: loss = 2901.1796\n",
      "Iteration 1100: loss = 2900.4614\n",
      "Iteration 1150: loss = 2899.8778\n",
      "Iteration 1200: loss = 2899.3983\n",
      "Iteration 1250: loss = 2898.9996\n",
      "Iteration 1300: loss = 2898.6641\n",
      "Iteration 1350: loss = 2898.3783\n",
      "Iteration 1400: loss = 2898.1318\n",
      "Iteration 1450: loss = 2897.9165\n",
      "Iteration 1500: loss = 2897.7261\n",
      "Iteration 1550: loss = 2897.5558\n",
      "Iteration 1600: loss = 2897.4015\n",
      "Iteration 1650: loss = 2897.2603\n",
      "Iteration 1700: loss = 2897.1297\n",
      "Iteration 1750: loss = 2897.0078\n",
      "Iteration 1800: loss = 2896.8930\n",
      "Iteration 1850: loss = 2896.7839\n",
      "Iteration 1900: loss = 2896.6797\n",
      "Iteration 1950: loss = 2896.5795\n",
      "Iteration 2000: loss = 2896.4826\n",
      "Iteration 2050: loss = 2896.3885\n",
      "Iteration 2100: loss = 2896.2967\n",
      "Iteration 2150: loss = 2896.2068\n",
      "Iteration 2200: loss = 2896.1187\n",
      "Iteration 2250: loss = 2896.0319\n",
      "Iteration 2300: loss = 2895.9464\n",
      "Iteration 2350: loss = 2895.8619\n",
      "Iteration 2400: loss = 2895.7783\n",
      "Iteration 2450: loss = 2895.6956\n",
      "Iteration 2500: loss = 2895.6135\n",
      "Iteration 2550: loss = 2895.5321\n",
      "Iteration 2600: loss = 2895.4512\n",
      "Iteration 2650: loss = 2895.3708\n",
      "Iteration 2700: loss = 2895.2909\n",
      "Iteration 2750: loss = 2895.2114\n",
      "Iteration 2800: loss = 2895.1323\n",
      "Iteration 2850: loss = 2895.0536\n",
      "Iteration 2900: loss = 2894.9752\n",
      "Iteration 2950: loss = 2894.8971\n",
      "Iteration 3000: loss = 2894.8194\n",
      "Iteration 3050: loss = 2894.7419\n",
      "Iteration 3100: loss = 2894.6647\n",
      "Iteration 3150: loss = 2894.5878\n",
      "Iteration 3200: loss = 2894.5112\n",
      "Iteration 3250: loss = 2894.4348\n",
      "Iteration 3300: loss = 2894.3587\n",
      "Iteration 3350: loss = 2894.2829\n",
      "Iteration 3400: loss = 2894.2072\n",
      "Iteration 3450: loss = 2894.1319\n",
      "Iteration 3500: loss = 2894.0567\n",
      "Iteration 3550: loss = 2893.9818\n",
      "Iteration 3600: loss = 2893.9072\n",
      "Iteration 3650: loss = 2893.8327\n",
      "Iteration 3700: loss = 2893.7585\n",
      "Iteration 3750: loss = 2893.6846\n",
      "Iteration 3800: loss = 2893.6108\n",
      "Iteration 3850: loss = 2893.5373\n",
      "Iteration 3900: loss = 2893.4640\n",
      "Iteration 3950: loss = 2893.3909\n",
      "Iteration 4000: loss = 2893.3180\n",
      "Iteration 4050: loss = 2893.2454\n",
      "Iteration 4100: loss = 2893.1730\n",
      "Iteration 4150: loss = 2893.1008\n",
      "Iteration 4200: loss = 2893.0288\n",
      "Iteration 4250: loss = 2892.9570\n",
      "Iteration 4300: loss = 2892.8854\n",
      "Iteration 4350: loss = 2892.8141\n",
      "Iteration 4400: loss = 2892.7430\n",
      "Iteration 4450: loss = 2892.6720\n",
      "Iteration 4500: loss = 2892.6013\n",
      "Iteration 4550: loss = 2892.5308\n",
      "Iteration 4600: loss = 2892.4606\n",
      "Iteration 4650: loss = 2892.3905\n",
      "Iteration 4700: loss = 2892.3206\n",
      "Iteration 4750: loss = 2892.2510\n",
      "Iteration 4800: loss = 2892.1815\n",
      "Iteration 4850: loss = 2892.1123\n",
      "Iteration 4900: loss = 2892.0432\n",
      "Iteration 4950: loss = 2891.9744\n",
      "Iteration 5000: loss = 2891.9057\n",
      "Iteration 5050: loss = 2891.8373\n",
      "Iteration 5100: loss = 2891.7691\n",
      "Iteration 5150: loss = 2891.7011\n",
      "Iteration 5200: loss = 2891.6333\n",
      "Iteration 5250: loss = 2891.5656\n",
      "Iteration 5300: loss = 2891.4982\n",
      "Iteration 5350: loss = 2891.4310\n",
      "Iteration 5400: loss = 2891.3640\n",
      "Iteration 5450: loss = 2891.2972\n",
      "Iteration 5500: loss = 2891.2305\n",
      "Iteration 5550: loss = 2891.1641\n",
      "Iteration 5600: loss = 2891.0979\n",
      "Iteration 5650: loss = 2891.0318\n",
      "Iteration 5700: loss = 2890.9660\n",
      "Iteration 5750: loss = 2890.9004\n",
      "Iteration 5800: loss = 2890.8349\n",
      "Iteration 5850: loss = 2890.7696\n",
      "Iteration 5900: loss = 2890.7046\n",
      "Iteration 5950: loss = 2890.6397\n",
      "Iteration 6000: loss = 2890.5750\n",
      "Iteration 6050: loss = 2890.5105\n",
      "Iteration 6100: loss = 2890.4462\n",
      "Iteration 6150: loss = 2890.3821\n",
      "Iteration 6200: loss = 2890.3182\n",
      "Iteration 6250: loss = 2890.2545\n",
      "Iteration 6300: loss = 2890.1909\n",
      "Iteration 6350: loss = 2890.1276\n",
      "Iteration 6400: loss = 2890.0644\n",
      "Iteration 6450: loss = 2890.0014\n",
      "Iteration 6500: loss = 2889.9386\n",
      "Iteration 6550: loss = 2889.8760\n",
      "Iteration 6600: loss = 2889.8136\n",
      "Iteration 6650: loss = 2889.7513\n",
      "Iteration 6700: loss = 2889.6893\n",
      "Iteration 6750: loss = 2889.6274\n",
      "Iteration 6800: loss = 2889.5657\n",
      "Iteration 6850: loss = 2889.5042\n",
      "Iteration 6900: loss = 2889.4429\n",
      "Iteration 6950: loss = 2889.3817\n",
      "Iteration 7000: loss = 2889.3207\n",
      "Iteration 7050: loss = 2889.2599\n",
      "Iteration 7100: loss = 2889.1993\n",
      "Iteration 7150: loss = 2889.1389\n",
      "Iteration 7200: loss = 2889.0786\n",
      "Iteration 7250: loss = 2889.0186\n",
      "Iteration 7300: loss = 2888.9587\n",
      "Iteration 7350: loss = 2888.8989\n",
      "Iteration 7400: loss = 2888.8394\n",
      "Iteration 7450: loss = 2888.7800\n",
      "Iteration 7500: loss = 2888.7208\n",
      "Iteration 7550: loss = 2888.6618\n",
      "Iteration 7600: loss = 2888.6029\n",
      "Iteration 7650: loss = 2888.5442\n",
      "Iteration 7700: loss = 2888.4857\n",
      "Iteration 7750: loss = 2888.4274\n",
      "Iteration 7800: loss = 2888.3692\n",
      "Iteration 7850: loss = 2888.3112\n",
      "Iteration 7900: loss = 2888.2534\n",
      "Iteration 7950: loss = 2888.1957\n",
      "Iteration 8000: loss = 2888.1383\n",
      "Iteration 8050: loss = 2888.0809\n",
      "Iteration 8100: loss = 2888.0238\n",
      "Iteration 8150: loss = 2887.9668\n",
      "Iteration 8200: loss = 2887.9100\n",
      "Iteration 8250: loss = 2887.8533\n",
      "Iteration 8300: loss = 2887.7969\n",
      "Iteration 8350: loss = 2887.7405\n",
      "Iteration 8400: loss = 2887.6844\n",
      "Iteration 8450: loss = 2887.6284\n",
      "Iteration 8500: loss = 2887.5726\n",
      "Iteration 8550: loss = 2887.5169\n",
      "Iteration 8600: loss = 2887.4614\n",
      "Iteration 8650: loss = 2887.4061\n",
      "Iteration 8700: loss = 2887.3509\n",
      "Iteration 8750: loss = 2887.2959\n",
      "Iteration 8800: loss = 2887.2411\n",
      "Iteration 8850: loss = 2887.1864\n",
      "Iteration 8900: loss = 2887.1319\n",
      "Iteration 8950: loss = 2887.0775\n",
      "Iteration 9000: loss = 2887.0233\n",
      "Iteration 9050: loss = 2886.9693\n",
      "Iteration 9100: loss = 2886.9154\n",
      "Iteration 9150: loss = 2886.8616\n",
      "Iteration 9200: loss = 2886.8081\n",
      "Iteration 9250: loss = 2886.7547\n",
      "Iteration 9300: loss = 2886.7014\n",
      "Iteration 9350: loss = 2886.6483\n",
      "Iteration 9400: loss = 2886.5953\n",
      "Iteration 9450: loss = 2886.5426\n",
      "Iteration 9500: loss = 2886.4899\n",
      "Iteration 9550: loss = 2886.4374\n",
      "Iteration 9600: loss = 2886.3851\n",
      "Iteration 9650: loss = 2886.3329\n",
      "Iteration 9700: loss = 2886.2809\n",
      "Iteration 9750: loss = 2886.2290\n",
      "Iteration 9800: loss = 2886.1773\n",
      "Iteration 9850: loss = 2886.1258\n",
      "Iteration 9900: loss = 2886.0743\n",
      "Iteration 9950: loss = 2886.0231\n",
      "Iteration 10000: loss = 2885.9720\n"
     ]
    }
   ],
   "source": [
    "losses = []\n",
    "max_epochs = 10000\n",
    "\n",
    "# 모델 학습\n",
    "for i in range(1, max_epochs + 1):\n",
    "    # 그래디언트 계산\n",
    "    dW, db = gradient(X_train, W, b, y_train)\n",
    "    \n",
    "    # 손실함수 계산\n",
    "    L = loss(X_train, W, b, y_train)\n",
    "    losses.append(L) # 각 epoch당 손실함수 저장\n",
    "    \n",
    "    # 경사하강법에 따라 파라미터 업데이트\n",
    "    W -= LEARNING_RATE * dW\n",
    "    b -= LEARNING_RATE * db\n",
    "    \n",
    "    # 중간 결과 출력\n",
    "    if i % 50 == 0:\n",
    "        print(\"Iteration %04i: loss = %.04f\" % (i, L))"
   ]
  },
  {
   "cell_type": "markdown",
   "id": "a4123260",
   "metadata": {},
   "source": [
    "# 10. test 데이터에 대한 성능 확인하기\n",
    "- test 데이터에 대한 성능을 확인해주세요."
   ]
  },
  {
   "cell_type": "code",
   "execution_count": 17,
   "id": "e9da1fc2",
   "metadata": {},
   "outputs": [
    {
     "data": {
      "image/png": "[encoded data removed]",
      "text/plain": [
       "<Figure size 432x288 with 1 Axes>"
      ]
     },
     "metadata": {
      "needs_background": "light"
     },
     "output_type": "display_data"
    }
   ],
   "source": [
    "import matplotlib.pyplot as plt\n",
    "\n",
    "plt.plot(losses)\n",
    "plt.title('MSE Losses')\n",
    "plt.xlabel('epoch')\n",
    "plt.ylabel('losses')\n",
    "plt.show()"
   ]
  },
  {
   "cell_type": "code",
   "execution_count": 18,
   "id": "ae4695bc",
   "metadata": {},
   "outputs": [
    {
     "name": "stdout",
     "output_type": "stream",
     "text": [
      "test loss = 2886.212004747658\n"
     ]
    }
   ],
   "source": [
    "# epoch에 따른 Loss값 그래프\n",
    "y_test_pred = model(X_test, W, b)\n",
    "print(\"test loss =\", MSE(y_test_pred, y_test))"
   ]
  },
  {
   "cell_type": "markdown",
   "id": "26693165",
   "metadata": {},
   "source": [
    "# 11. 정답 데이터와 예측한 데이터 시각화하기\n",
    "- x축에는 X 데이터의 첫 번째 컬럼을, y축에는 정답인 target 데이터를 넣어서 모델이 예측한 데이터를 시각화해주세요"
   ]
  },
  {
   "cell_type": "code",
   "execution_count": 19,
   "id": "40e390c6",
   "metadata": {},
   "outputs": [
    {
     "data": {
      "image/png": "[encoded data removed]",
      "text/plain": [
       "<Figure size 432x288 with 1 Axes>"
      ]
     },
     "metadata": {
      "needs_background": "light"
     },
     "output_type": "display_data"
    }
   ],
   "source": [
    "# test 데이터셋의 실제 값과 모델의 예측값 비교\n",
    "plt.scatter(X_test[:,0], y_test)\n",
    "plt.scatter(X_test[:,0], y_test_pred)\n",
    "\n",
    "plt.legend(['ground truth', 'prediction'])\n",
    "plt.xlabel('age')\n",
    "plt.ylabel('disease progression')\n",
    "plt.show()"
   ]
  },
  {
   "cell_type": "code",
   "execution_count": null,
   "id": "dbec580b",
   "metadata": {},
   "outputs": [],
   "source": []
  }
 ],
 "metadata": {
  "kernelspec": {
   "display_name": "Python 3 (ipykernel)",
   "language": "python",
   "name": "python3"
  },
  "language_info": {
   "codemirror_mode": {
    "name": "ipython",
    "version": 3
   },
   "file_extension": ".py",
   "mimetype": "text/x-python",
   "name": "python",
   "nbconvert_exporter": "python",
   "pygments_lexer": "ipython3",
   "version": "3.9.7"
  }
 },
 "nbformat": 4,
 "nbformat_minor": 5
}
